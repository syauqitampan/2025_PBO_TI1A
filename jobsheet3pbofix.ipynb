{
  "nbformat": 4,
  "nbformat_minor": 0,
  "metadata": {
    "colab": {
      "provenance": [],
      "authorship_tag": "ABX9TyMU/3hgCl4JkOQydwBAzsmk",
      "include_colab_link": true
    },
    "kernelspec": {
      "name": "python3",
      "display_name": "Python 3"
    },
    "language_info": {
      "name": "python"
    }
  },
  "cells": [
    {
      "cell_type": "markdown",
      "metadata": {
        "id": "view-in-github",
        "colab_type": "text"
      },
      "source": [
        "<a href=\"https://colab.research.google.com/github/syauqitampan/2025_PBO_TI1A/blob/main/jobsheet3pbofix.ipynb\" target=\"_parent\"><img src=\"https://colab.research.google.com/assets/colab-badge.svg\" alt=\"Open In Colab\"/></a>"
      ]
    },
    {
      "cell_type": "code",
      "execution_count": null,
      "metadata": {
        "colab": {
          "base_uri": "https://localhost:8080/"
        },
        "id": "4eD4MUN3qP9G",
        "outputId": "50a4234a-603c-4554-b34a-c2e2f9108d0e"
      },
      "outputs": [
        {
          "output_type": "stream",
          "name": "stdout",
          "text": [
            "500 telah ditambahkan ke akun owner Alice. \n",
            "Jumlah deposit harus lebih dari 0. \n",
            "300 telah ditarik dari akun Alice. \n",
            "Saldo tidak mencukupi\n",
            "Saldo terakhir di akun Alice:1200\n"
          ]
        }
      ],
      "source": [
        "class BankAccount:\n",
        "    def __init__(self, owner, balance):\n",
        "      self.__owner = owner\n",
        "      self.__balance = balance\n",
        "\n",
        "    def deposit(self,amount):\n",
        "        if amount > 0:\n",
        "          self.__balance += amount\n",
        "          print(f\"{amount} telah ditambahkan ke akun owner {self.__owner}. \")\n",
        "        else:\n",
        "          print(\"Jumlah deposit harus lebih dari 0. \")\n",
        "\n",
        "    def withdraw(self, amount):\n",
        "        if amount <= self.__balance:\n",
        "          self.__balance -= amount\n",
        "          print(f\"{amount} telah ditarik dari akun {self.__owner}. \")\n",
        "        else:\n",
        "          print(\"Saldo tidak mencukupi\")\n",
        "\n",
        "    def get_balance(self):\n",
        "          return self.__balance\n",
        "\n",
        "__name__ == \"__main__\"\n",
        "\n",
        "alice_account = BankAccount(owner=\"Alice\", balance=1000)\n",
        "alice_account.deposit(amount=500)\n",
        "alice_account.deposit(-100)\n",
        "\n",
        "alice_account.withdraw(amount=300)\n",
        "alice_account.withdraw(amount=2000)\n",
        "\n",
        "current_balance = alice_account.get_balance()\n",
        "print(f\"Saldo terakhir di akun {alice_account._BankAccount__owner}:{current_balance}\")\n",
        "\n",
        "\n"
      ]
    },
    {
      "cell_type": "code",
      "source": [
        "class Employee:\n",
        "  def __init__(self, name, salary):\n",
        "    self.__name = name\n",
        "    self.__salary = salary\n",
        "\n",
        "\n",
        "  def update_salary(self, increase):\n",
        "    if increase > 0:\n",
        "      self.__salary += increase\n",
        "      print(f\"Gaji telah dinaikkan sebesar {increase}. \")\n",
        "    else:\n",
        "      print(\"Nilain kenaikkan harus lebih dari 0. \")\n",
        "\n",
        "  def set_salary(self, new_salary):\n",
        "    if new_salary >= 0:\n",
        "      self.__salary = new_salary\n",
        "      print(f\"Gaji diatur ulang menjadi {new_salary}. \")\n",
        "    else:\n",
        "      print(\"Gaji tidak dapat bernilai negatif. \")\n",
        "\n",
        "  def get_salary(self):\n",
        "    return self.__salary\n",
        "\n",
        "  def get_employee_info(self):\n",
        "    return f\"Employee: {self.__name}, Gaji: {self.__salary}\"\n",
        "\n",
        "__name__ == \"__main__\"\n",
        "emp1 = Employee(\"John Doe\", 50000)\n",
        "print(emp1.get_employee_info())\n",
        "\n",
        "emp1.update_salary(5000)\n",
        "print(f\"Gaji setelah kenaikan: {emp1.get_salary()}\")\n",
        "\n",
        "emp1.set_salary(60000)\n",
        "print(f\"Informasi terbaru: {emp1.get_employee_info()}\")\n"
      ],
      "metadata": {
        "colab": {
          "base_uri": "https://localhost:8080/"
        },
        "id": "3S0-mPUWxtE3",
        "outputId": "0808a586-8108-4803-9146-1459dcaff1b1"
      },
      "execution_count": null,
      "outputs": [
        {
          "output_type": "stream",
          "name": "stdout",
          "text": [
            "Employee: John Doe, Gaji: 50000\n",
            "Gaji telah dinaikkan sebesar 5000. \n",
            "Gaji setelah kenaikan: 55000\n",
            "Gaji diatur ulang menjadi 60000. \n",
            "Informasi terbaru: Employee: John Doe, Gaji: 60000\n"
          ]
        }
      ]
    },
    {
      "cell_type": "code",
      "source": [
        "class SimpleExample:\n",
        "      def __init__(self, name):\n",
        "        self.name = name\n",
        "        print(f\"Konstruktor : Objek '{self.name}' telah dibuat. \")\n",
        "\n",
        "      def __del__(self):\n",
        "        print(f\"Destruktor: Objek '{self.name}' sedang dihapus. \")\n",
        "\n",
        "\n",
        "def main():\n",
        "      print(\"Program dimulai. \\n\")\n",
        "\n",
        "      obj = SimpleExample(\"Demo\")\n",
        "      print(\"Program sedang berjalan... \\n\")\n",
        "\n",
        "      del obj\n",
        "      print(\"Objek telah dihapus secara eksplisit. \\n\")\n",
        "      print(\"Program selesai. \")\n",
        "\n",
        "if __name__ == \"__main__\":\n",
        "  main()"
      ],
      "metadata": {
        "colab": {
          "base_uri": "https://localhost:8080/"
        },
        "id": "sH23twsK2BGK",
        "outputId": "0aa4f24c-2d96-42ca-85ff-4fccd002904e"
      },
      "execution_count": null,
      "outputs": [
        {
          "output_type": "stream",
          "name": "stdout",
          "text": [
            "Program dimulai. \n",
            "\n",
            "Konstruktor : Objek 'Demo' telah dibuat. \n",
            "Program sedang berjalan... \n",
            "\n",
            "Destruktor: Objek 'Demo' sedang dihapus. \n",
            "Objek telah dihapus secara eksplisit. \n",
            "\n",
            "Program selesai. \n"
          ]
        }
      ]
    },
    {
      "cell_type": "code",
      "source": [
        "class FileLogger:\n",
        "  def __init__(self, filename):\n",
        "    self.filename = filename\n",
        "    try:\n",
        "        self.file = open(filename, \"a\")\n",
        "        print(f\"File '{filename}' berhasil dibuka untuk logging. \")\n",
        "    except Exception as e:\n",
        "        print(f\"Gagal membuka file '{filename}': {e}\")\n",
        "\n",
        "  def write_log(self, message):\n",
        "    self.file.write (message + \"\\n\")\n",
        "    self.file.flush()\n",
        "    print(f\"Pesan log: '{message}' telah ditulis.\")\n",
        "\n",
        "  def __del__(self):\n",
        "    if hasattr(self, \"file\") and not self.file.closed:\n",
        "      self.file.close()\n",
        "      print(f\"File '{self.filename}' telah ditutup. \")\n",
        "\n",
        "\n",
        "\n",
        "if __name__ == \"__main__\":\n",
        "  logger = FileLogger(\"application.log\")\n",
        "\n",
        "  logger.write_log(\"Aplikasi dimulai.\")\n",
        "  logger.write_log(\"Melakukan operasi A...\")\n",
        "  logger.write_log(\"Operasi A selesai.\")\n",
        "  logger.write_log(\"Aplikasi akan segera selesai.\")\n",
        "\n",
        "del logger"
      ],
      "metadata": {
        "colab": {
          "base_uri": "https://localhost:8080/"
        },
        "id": "smRNvMz35evy",
        "outputId": "0ee5d2cb-58d2-4d6e-e399-72b4980efb8f"
      },
      "execution_count": null,
      "outputs": [
        {
          "output_type": "stream",
          "name": "stdout",
          "text": [
            "File 'application.log' berhasil dibuka untuk logging. \n",
            "Pesan log: 'Aplikasi dimulai.' telah ditulis.\n",
            "Pesan log: 'Melakukan operasi A...' telah ditulis.\n",
            "Pesan log: 'Operasi A selesai.' telah ditulis.\n",
            "Pesan log: 'Aplikasi akan segera selesai.' telah ditulis.\n",
            "File 'application.log' telah ditutup. \n"
          ]
        }
      ]
    },
    {
      "cell_type": "code",
      "source": [
        "class Calculator:\n",
        "  def __init__(self, initial_value=0):\n",
        "    self.value = initial_value\n",
        "    print(f\"Kalkultor diinisialisai dengan nilai : {self.value}\")\n",
        "\n",
        "  def add(self, number):\n",
        "    self.value += number\n",
        "    print(f\"Setelah penambahan {number}, nilai sekarang adalah: {self.value}\")\n",
        "\n",
        "  def substract(self, number):\n",
        "    self.value -= number\n",
        "    print(f\"Setelah pengurangan {number}, nilai sekarang adalah: {self.value}\")\n",
        "\n",
        "  def reset(self):\n",
        "    self.value = 0\n",
        "    print(\"Nilai telah direset ke 0\")\n",
        "\n",
        "  def show_value(self):\n",
        "    print(f\"Nilai saat ini adalah: {self.value}\")\n",
        "\n",
        "\n",
        "def main():\n",
        "\n",
        " cal1 = Calculator(initial_value=10)\n",
        " cal1.add(5)\n",
        " cal1.substract(3)\n",
        " cal1.show_value()\n",
        "\n",
        " cal2 = Calculator()\n",
        " cal2.add(20)\n",
        " cal2.show_value()\n",
        "\n",
        "if __name__ == \"__main__\":\n",
        "  main()\n"
      ],
      "metadata": {
        "colab": {
          "base_uri": "https://localhost:8080/"
        },
        "id": "cix-eFjZ9xPd",
        "outputId": "a7c47395-590e-47f9-ad05-e8650395c118"
      },
      "execution_count": null,
      "outputs": [
        {
          "output_type": "stream",
          "name": "stdout",
          "text": [
            "Kalkultor diinisialisai dengan nilai : 10\n",
            "Setelah penambahan 5, nilai sekarang adalah: 15\n",
            "Setelah pengurangan 3, nilai sekarang adalah: 12\n",
            "Nilai saat ini adalah: 12\n",
            "Kalkultor diinisialisai dengan nilai : 0\n",
            "Setelah penambahan 20, nilai sekarang adalah: 20\n",
            "Nilai saat ini adalah: 20\n"
          ]
        }
      ]
    },
    {
      "cell_type": "code",
      "source": [
        "class Person:\n",
        "  def __init__(self, name, age):\n",
        "    self.__name = name\n",
        "    self.__age = age\n",
        "\n",
        "  @property\n",
        "  def name(self):\n",
        "      return self.__name\n",
        "\n",
        "  @name.setter\n",
        "  def name(self, value):\n",
        "      if not value:\n",
        "        print(\"Nama tidak boleh kosong.\")\n",
        "      else:\n",
        "        self.__name = value\n",
        "\n",
        "  @property\n",
        "  def age(self):\n",
        "      return self.__age\n",
        "\n",
        "  @age.setter\n",
        "  def age(self, value):\n",
        "      if value < 0:\n",
        "        print(\"Umur tidak boleh negatif.\")\n",
        "      else:\n",
        "        self.__age = value\n",
        "\n",
        "\n",
        "def main():\n",
        "  person = Person(\"Alice\", 30)\n",
        "  print(f\"Nama {person.name}, Umur: {person.age}\")\n",
        "\n",
        "  person.name = \"Bob\"\n",
        "  person.age = 35\n",
        "  print(f\"Nama baru: {person.name}, Umur baru: {person.age} \")\n",
        "\n",
        "  person.age = -5\n",
        "\n",
        "if __name__ == \"__main__\":\n",
        "  main()"
      ],
      "metadata": {
        "colab": {
          "base_uri": "https://localhost:8080/"
        },
        "id": "5MwRL0s4EiM5",
        "outputId": "1ed0306e-8dea-47c7-a9d0-ccec12883330"
      },
      "execution_count": null,
      "outputs": [
        {
          "output_type": "stream",
          "name": "stdout",
          "text": [
            "Nama Alice, Umur: 30\n",
            "Nama baru: Bob, Umur baru: 35 \n",
            "Umur tidak boleh negatif.\n"
          ]
        }
      ]
    },
    {
      "cell_type": "code",
      "source": [
        "class Student:\n",
        "  def __init__(self, name, score):\n",
        "    self.__name = name\n",
        "    self.__score = score\n",
        "    self.__update_grade()\n",
        "\n",
        "  def __del__(self):\n",
        "    print(f\"Data Mahasiswa '{self.name}' sedang dihapus. \")\n",
        "\n",
        "  def show_info(self):\n",
        "    print(f\"Nama Mahasiswa : {self.__name}\")\n",
        "    print(f\"Nilai Mahasiswa : {self.__score}\")\n",
        "    print(f\"Grade Mahasiswa : {self.__grade}\")\n",
        "\n",
        "  @property\n",
        "  def name(self):\n",
        "    return self.__name\n",
        "\n",
        "  @name.setter\n",
        "  def name(self, value):\n",
        "    if not value:\n",
        "      print(\"Nama tidak boleh kosong.\")\n",
        "    else:\n",
        "      return self.__name\n",
        "\n",
        "  @property\n",
        "  def score(self):\n",
        "    return self.__score\n",
        "\n",
        "  @score.setter\n",
        "  def score(self, value):\n",
        "    if not value:\n",
        "      print(\"Nilai tidak boleh kosong\")\n",
        "    else:\n",
        "      self.__score = value\n",
        "      self.__update_grade()\n",
        "\n",
        "  @property\n",
        "  def grade(self):\n",
        "    return self.__grade\n",
        "\n",
        "  def __update_grade(self):\n",
        "    if self.__score >= 90:\n",
        "      self.__grade = \"A\"\n",
        "    elif self.__score >= 80:\n",
        "      self.__grade = \"B\"\n",
        "    elif self.__score >= 70:\n",
        "      self.__grade = \"C\"\n",
        "    elif self.__score >= 60:\n",
        "      self.__grade = \"D\"\n",
        "    else:\n",
        "      self.__grade = \"E\"\n",
        "\n",
        "def main():\n",
        "  student = Student(\"syauqi\", 87)\n",
        "  student.show_info()\n",
        "\n",
        "  print()\n",
        "  print()\n",
        "\n",
        "  student.score = 93\n",
        "  print(f\"Nilai telah diubah...\")\n",
        "  student.show_info()\n",
        "\n",
        "  print()\n",
        "  print()\n",
        "\n",
        "  del student\n",
        "  print(f\"Data Mahasiswa telah dihapus\")\n",
        "\n",
        "if __name__ == \"__main__\":\n",
        "  main()"
      ],
      "metadata": {
        "colab": {
          "base_uri": "https://localhost:8080/"
        },
        "id": "k9iMONUgy3Qa",
        "outputId": "ac02dabd-d44c-4b03-8f6d-4bf3f3950c12"
      },
      "execution_count": 43,
      "outputs": [
        {
          "output_type": "stream",
          "name": "stdout",
          "text": [
            "Nama Mahasiswa : syauqi\n",
            "Nilai Mahasiswa : 87\n",
            "Grade Mahasiswa : B\n",
            "\n",
            "\n",
            "Nilai telah diubah...\n",
            "Nama Mahasiswa : syauqi\n",
            "Nilai Mahasiswa : 93\n",
            "Grade Mahasiswa : A\n",
            "\n",
            "\n",
            "Data Mahasiswa 'syauqi' sedang dihapus. \n",
            "Data Mahasiswa telah dihapus\n"
          ]
        }
      ]
    },
    {
      "cell_type": "code",
      "source": [
        "from graphviz import Digraph\n",
        "from IPython.display import Image\n",
        "\n",
        "dot = Digraph('Student', format='png')\n",
        "\n",
        "# Set style\n",
        "dot.attr('node', shape='plaintext')\n",
        "\n",
        "# Tabel UML mirip seperti contoh gambar kamu\n",
        "dot.node('Student', '''<\n",
        "<TABLE BORDER=\"0\" CELLBORDER=\"1\" CELLSPACING=\"0\" CELLPADDING=\"4\">\n",
        "  <TR><TD COLSPAN=\"2\" BGCOLOR=\"lightgray\"><B>Student</B></TD></TR>\n",
        "\n",
        "  <!-- Atribut privat -->\n",
        "  <TR><TD ALIGN=\"LEFT\">- __name</TD><TD ALIGN=\"LEFT\">str</TD></TR>\n",
        "  <TR><TD ALIGN=\"LEFT\">- __score</TD><TD ALIGN=\"LEFT\">int</TD></TR>\n",
        "  <TR><TD ALIGN=\"LEFT\">- __grade</TD><TD ALIGN=\"LEFT\">str</TD></TR>\n",
        "\n",
        "  <!-- Property -->\n",
        "  <TR><TD ALIGN=\"LEFT\">+ name {property}</TD><TD ALIGN=\"LEFT\">str</TD></TR>\n",
        "  <TR><TD ALIGN=\"LEFT\">+ score {property}</TD><TD ALIGN=\"LEFT\">int</TD></TR>\n",
        "  <TR><TD ALIGN=\"LEFT\">+ grade {property}</TD><TD ALIGN=\"LEFT\">str</TD></TR>\n",
        "\n",
        "  <!-- Method -->\n",
        "  <TR><TD ALIGN=\"LEFT\">+ __init__(name, score)</TD><TD></TD></TR>\n",
        "  <TR><TD ALIGN=\"LEFT\">+ show_info()</TD><TD></TD></TR>\n",
        "  <TR><TD ALIGN=\"LEFT\">+ __del__()</TD><TD></TD></TR>\n",
        "  <TR><TD ALIGN=\"LEFT\">- __update_grade()</TD><TD></TD></TR>\n",
        "</TABLE>\n",
        ">''')\n",
        "\n",
        "# Render dan tampilkan\n",
        "dot.render('student_class_diagram', cleanup=True)\n",
        "Image('student_class_diagram.png')\n"
      ],
      "metadata": {
        "id": "L82UnfLyLW6q",
        "outputId": "360bd0d5-b15d-4729-9e3a-d1d41da449a2",
        "colab": {
          "base_uri": "https://localhost:8080/",
          "height": 405
        }
      },
      "execution_count": 49,
      "outputs": [
        {
          "output_type": "execute_result",
          "data": {
            "image/png": "[encoded data removed]",
            "text/plain": [
              "<IPython.core.display.Image object>"
            ]
          },
          "metadata": {},
          "execution_count": 49
        }
      ]
    }
  ]
}